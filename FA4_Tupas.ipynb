{
  "nbformat": 4,
  "nbformat_minor": 0,
  "metadata": {
    "colab": {
      "provenance": []
    },
    "kernelspec": {
      "name": "ir",
      "display_name": "R"
    },
    "language_info": {
      "name": "R"
    }
  },
  "cells": [
    {
      "cell_type": "markdown",
      "source": [
        "5. A geospatial analysis system has four sensors supplying images. The percent-\n",
        "age of images supplied by each sensor and the percentage of images relevant\n",
        "to a query are shown in the following table.\n",
        "\n",
        "What is the overall percentage of relevant images?"
      ],
      "metadata": {
        "id": "TwkXsG_6PAw-"
      }
    },
    {
      "cell_type": "code",
      "source": [
        "percentage_supplied <- c(15, 20, 25, 40)\n",
        "percentage_relevant <- c(50, 60, 80, 85)\n",
        "\n",
        "overall_relevance <- sum(percentage_supplied * (percentage_relevant / 100))\n",
        "\n",
        "print(paste(\"Overall Percentage of Relevant Images:\", overall_relevance))"
      ],
      "metadata": {
        "colab": {
          "base_uri": "https://localhost:8080/"
        },
        "id": "vOmIUScVPYu2",
        "outputId": "4e56851a-579c-4cd6-e598-cca0c95edcdb"
      },
      "execution_count": 1,
      "outputs": [
        {
          "output_type": "stream",
          "name": "stdout",
          "text": [
            "[1] \"Overall Percentage of Relevant Images: 73.5\"\n"
          ]
        }
      ]
    },
    {
      "cell_type": "markdown",
      "source": [
        "6. A fair coin is tossed twice.\n",
        "Let E1 be the event that both tosses have the same outcome, that is,\n",
        "E1 = (HH, TT).\n",
        "Let E2 be the event that the first toss is a head, that is, E2 = (HH, HT).\n",
        "Let E3 be the event that the second toss is a head, that is, E3 = (TH, HH).\n",
        "Show that E1 , E2 , and E3 are pairwise independent but not mutually indepen-\n",
        "dent.\n"
      ],
      "metadata": {
        "id": "K9Hc13zGPXXo"
      }
    },
    {
      "cell_type": "code",
      "source": [
        "sample_space <- c(\"HH\", \"HT\", \"TH\", \"TT\")\n",
        "prob <- rep(1/4, 4)\n",
        "\n",
        "E1 <- c(\"HH\", \"TT\")\n",
        "E2 <- c(\"HH\", \"HT\")\n",
        "E3 <- c(\"HH\", \"TH\")\n",
        "\n",
        "P_E1 <- sum(prob[sample_space %in% E1])\n",
        "P_E2 <- sum(prob[sample_space %in% E2])\n",
        "P_E3 <- sum(prob[sample_space %in% E3])\n",
        "\n",
        "P_E1_E2 <- sum(prob[sample_space %in% intersect(E1, E2)])\n",
        "P_E1_E3 <- sum(prob[sample_space %in% intersect(E1, E3)])\n",
        "P_E2_E3 <- sum(prob[sample_space %in% intersect(E2, E3)])\n",
        "P_E1_E2_E3 <- sum(prob[sample_space %in% intersect(intersect(E1, E2), E3)])\n",
        "\n",
        "pairwise_check <- list(\n",
        "  \"E1 & E2\" = P_E1_E2 == P_E1 * P_E2,\n",
        "  \"E1 & E3\" = P_E1_E3 == P_E1 * P_E3,\n",
        "  \"E2 & E3\" = P_E2_E3 == P_E2 * P_E3\n",
        ")\n",
        "\n",
        "mutual_independence <- P_E1_E2_E3 == P_E1 * P_E2 * P_E3\n",
        "\n",
        "cat(\"Pairwise Independence Check:\\n\")\n",
        "print(pairwise_check)\n",
        "\n",
        "cat(\"\\nMutual Independence Check:\\n\")\n",
        "print(mutual_independence)"
      ],
      "metadata": {
        "colab": {
          "base_uri": "https://localhost:8080/"
        },
        "id": "K9_A5v1MO-3v",
        "outputId": "89998f26-cafa-4c9d-c2ed-1751cba74894"
      },
      "execution_count": 2,
      "outputs": [
        {
          "output_type": "stream",
          "name": "stdout",
          "text": [
            "Pairwise Independence Check:\n",
            "$`E1 & E2`\n",
            "[1] TRUE\n",
            "\n",
            "$`E1 & E3`\n",
            "[1] TRUE\n",
            "\n",
            "$`E2 & E3`\n",
            "[1] TRUE\n",
            "\n",
            "\n",
            "Mutual Independence Check:\n",
            "[1] FALSE\n"
          ]
        }
      ]
    }
  ]
}