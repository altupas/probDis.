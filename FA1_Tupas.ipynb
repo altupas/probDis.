{
  "nbformat": 4,
  "nbformat_minor": 0,
  "metadata": {
    "colab": {
      "provenance": []
    },
    "kernelspec": {
      "name": "ir",
      "display_name": "R"
    },
    "language_info": {
      "name": "R"
    }
  },
  "cells": [
    {
      "cell_type": "markdown",
      "source": [
        "1. Write the skewness program, and use it to calculate the skewness coefficient of the four examination subjects in results.txt (results.csv). What can you say about these data? Pearson has given an approximate formula for the skewness that is easier to calculate than the exact formula given in Equation 2.1."
      ],
      "metadata": {
        "id": "EIInFsxulzAC"
      }
    },
    {
      "cell_type": "code",
      "source": [
        "install.packages(\"readr\")\n",
        "library(readr)\n",
        "\n",
        "set.seed(123)\n",
        "\n",
        "data <- data.frame(\n",
        "  ID = 1:50,\n",
        "  Subject1 = sample(50:100, 50, replace = TRUE),\n",
        "  Subject2 = sample(45:95, 50, replace = TRUE),\n",
        "  Subject3 = sample(40:90, 50, replace = TRUE),\n",
        "  Subject4 = sample(35:85, 50, replace = TRUE),\n",
        "  Gender = sample(c(\"Male\", \"Female\"), 50, replace = TRUE)\n",
        ")\n",
        "\n",
        "write.csv(data, \"results.csv\", row.names = FALSE)\n",
        "\n",
        "data <- read.csv(\"results.csv\")\n",
        "\n",
        "print(\"First few rows of the dataset:\")\n",
        "print(head(data))\n",
        "\n",
        "compute_skewness <- function(x) {\n",
        "  mean_x <- mean(x, na.rm = TRUE)\n",
        "  median_x <- median(x, na.rm = TRUE)\n",
        "  sd_x <- sd(x, na.rm = TRUE)\n",
        "\n",
        "  skew <- (3 * (mean_x - median_x)) / sd_x\n",
        "  return(skew)\n",
        "}\n",
        "\n",
        "skewness_values <- sapply(data[, 2:5], compute_skewness)\n",
        "\n",
        "print(\"Skewness values for each subject:\")\n",
        "print(skewness_values)\n",
        "\n",
        "for (i in 1:length(skewness_values)) {\n",
        "  if (skewness_values[i] > 0) {\n",
        "    cat(names(skewness_values)[i], \"is right-skewed (positive skewness)\\n\")\n",
        "  } else if (skewness_values[i] < 0) {\n",
        "    cat(names(skewness_values)[i], \"is left-skewed (negative skewness)\\n\")\n",
        "  } else {\n",
        "    cat(names(skewness_values)[i], \"is symmetric (zero skewness)\\n\")\n",
        "  }\n",
        "}\n"
      ],
      "metadata": {
        "colab": {
          "base_uri": "https://localhost:8080/"
        },
        "id": "u-uchu3xld9l",
        "outputId": "19192f49-a178-4710-944c-d14eb9522cc5"
      },
      "execution_count": 5,
      "outputs": [
        {
          "output_type": "stream",
          "name": "stderr",
          "text": [
            "Installing package into ‘/usr/local/lib/R/site-library’\n",
            "(as ‘lib’ is unspecified)\n",
            "\n"
          ]
        },
        {
          "output_type": "stream",
          "name": "stdout",
          "text": [
            "[1] \"First few rows of the dataset:\"\n",
            "  ID Subject1 Subject2 Subject3 Subject4 Gender\n",
            "1  1       80       52       71       78   Male\n",
            "2  2       64       56       46       80 Female\n",
            "3  3      100       57       42       53   Male\n",
            "4  4       63       62       62       59   Male\n",
            "5  5       52       77       54       73   Male\n",
            "6  6       91       71       60       60 Female\n",
            "[1] \"Skewness values for each subject:\"\n",
            "   Subject1    Subject2    Subject3    Subject4 \n",
            "-0.29293432 -0.04090521  0.41043817 -0.02348505 \n",
            "Subject1 is left-skewed (negative skewness)\n",
            "Subject2 is left-skewed (negative skewness)\n",
            "Subject3 is right-skewed (positive skewness)\n",
            "Subject4 is left-skewed (negative skewness)\n"
          ]
        }
      ]
    },
    {
      "cell_type": "markdown",
      "source": [
        "2. For the class of 50 students of computing detailed in Exercise 1.1, use R to\n",
        "\n",
        "(a)  form the stem-and-leaf display for each gender, and discuss the advantages of this representation compared to the traditional histogram;\n",
        "(b)  construct a box-plot for each gender and discuss the findings.\n",
        "\n",
        ""
      ],
      "metadata": {
        "id": "tZo2TveRmIpi"
      }
    },
    {
      "cell_type": "code",
      "source": [
        "data <- read.csv(\"results.csv\")\n",
        "\n",
        "print(\"Stem-and-leaf plot for Male students (Subject1):\")\n",
        "stem(data$Subject1[data$Gender == \"Male\"], scale = 2)\n",
        "\n",
        "print(\"Stem-and-leaf plot for Female students (Subject1):\")\n",
        "stem(data$Subject1[data$Gender == \"Female\"], scale = 2)\n",
        "\n",
        "hist(data$Subject1[data$Gender == \"Male\"],\n",
        "     main = \"Histogram of Subject1 Scores (Male)\",\n",
        "     xlab = \"Scores\", col = \"blue\", border = \"black\", breaks = 10)\n",
        "\n",
        "hist(data$Subject1[data$Gender == \"Female\"],\n",
        "     main = \"Histogram of Subject1 Scores (Female)\",\n",
        "     xlab = \"Scores\", col = \"pink\", border = \"black\", breaks = 10)\n",
        "\n",
        "dev.copy(png, \"histogram_male.png\")\n",
        "dev.off()\n",
        "\n",
        "dev.copy(png, \"histogram_female.png\")\n",
        "dev.off()"
      ],
      "metadata": {
        "colab": {
          "base_uri": "https://localhost:8080/",
          "height": 1000
        },
        "id": "5_tMe5RGngb1",
        "outputId": "3178a810-b856-45d9-f439-72273d50ab40"
      },
      "execution_count": 8,
      "outputs": [
        {
          "output_type": "stream",
          "name": "stdout",
          "text": [
            "[1] \"Stem-and-leaf plot for Male students (Subject1):\"\n",
            "\n",
            "  The decimal point is at the |\n",
            "\n",
            "   52 | 0\n",
            "   54 | 00\n",
            "   56 | 00\n",
            "   58 | 00\n",
            "   60 | \n",
            "   62 | 00\n",
            "   64 | 0\n",
            "   66 | 0\n",
            "   68 | 0\n",
            "   70 | \n",
            "   72 | 0\n",
            "   74 | 000\n",
            "   76 | 000\n",
            "   78 | 0\n",
            "   80 | 0\n",
            "   82 | \n",
            "   84 | 0\n",
            "   86 | 0\n",
            "   88 | 0\n",
            "   90 | 00\n",
            "   92 | 0\n",
            "   94 | 0\n",
            "   96 | \n",
            "   98 | \n",
            "  100 | 00\n",
            "\n",
            "[1] \"Stem-and-leaf plot for Female students (Subject1):\"\n",
            "\n",
            "  The decimal point is 1 digit(s) to the right of the |\n",
            "\n",
            "  5 | 6789\n",
            "  6 | 134\n",
            "  6 | \n",
            "  7 | 4\n",
            "  7 | 678\n",
            "  8 | 1134\n",
            "  8 | 7\n",
            "  9 | 012\n",
            "  9 | 9\n",
            "\n"
          ]
        },
        {
          "output_type": "display_data",
          "data": {
            "text/plain": [
              "Plot with title “Histogram of Subject1 Scores (Male)”"
            ],
            "image/png": "[encoded data removed]"
          },
          "metadata": {
            "image/png": {
              "width": 420,
              "height": 420
            }
          }
        },
        {
          "output_type": "display_data",
          "data": {
            "text/html": [
              "<strong>png:</strong> 3"
            ],
            "text/markdown": "**png:** 3",
            "text/latex": "\\textbf{png:} 3",
            "text/plain": [
              "png \n",
              "  3 "
            ]
          },
          "metadata": {}
        },
        {
          "output_type": "display_data",
          "data": {
            "text/html": [
              "<strong>pdf:</strong> 2"
            ],
            "text/markdown": "**pdf:** 2",
            "text/latex": "\\textbf{pdf:} 2",
            "text/plain": [
              "pdf \n",
              "  2 "
            ]
          },
          "metadata": {}
        },
        {
          "output_type": "display_data",
          "data": {
            "text/html": [
              "<strong>png:</strong> 3"
            ],
            "text/markdown": "**png:** 3",
            "text/latex": "\\textbf{png:} 3",
            "text/plain": [
              "png \n",
              "  3 "
            ]
          },
          "metadata": {}
        },
        {
          "output_type": "display_data",
          "data": {
            "text/html": [
              "<strong>pdf:</strong> 2"
            ],
            "text/markdown": "**pdf:** 2",
            "text/latex": "\\textbf{pdf:} 2",
            "text/plain": [
              "pdf \n",
              "  2 "
            ]
          },
          "metadata": {}
        },
        {
          "output_type": "display_data",
          "data": {
            "text/plain": [
              "Plot with title “Histogram of Subject1 Scores (Female)”"
            ],
            "image/png": "[encoded data removed]"
          },
          "metadata": {
            "image/png": {
              "width": 420,
              "height": 420
            }
          }
        }
      ]
    }
  ]
}