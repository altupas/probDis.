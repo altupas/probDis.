{
  "nbformat": 4,
  "nbformat_minor": 0,
  "metadata": {
    "colab": {
      "provenance": []
    },
    "kernelspec": {
      "name": "ir",
      "display_name": "R"
    },
    "language_info": {
      "name": "R"
    }
  },
  "cells": [
    {
      "cell_type": "markdown",
      "source": [
        "2.  A binary communication channel carries data as one of two sets of signals denoted by 0 and 1. Owing to noise, a transmitted 0 is sometimes received as a 1, and a transmitted 1 is sometimes received as a 0. For a given channel, it can be assumed that a transmitted 0 is correctly received with probability 0.95, and a transmitted 1 is correctly received with probability 0.75. Also, 70% of all messages are transmitted as a 0. If a signal is sent, determine the probability that:\n",
        "\n",
        "(a) a 1 was received;\n",
        "(b) a 1 was transmitted given than a 1 was received."
      ],
      "metadata": {
        "id": "Uhwd1pXashqb"
      }
    },
    {
      "cell_type": "code",
      "execution_count": 1,
      "metadata": {
        "colab": {
          "base_uri": "https://localhost:8080/"
        },
        "id": "lsByJ_n0saxd",
        "outputId": "8869ad75-3d83-4aa5-c1cb-6bf57422ad89"
      },
      "outputs": [
        {
          "output_type": "stream",
          "name": "stdout",
          "text": [
            "Probability that a 1 was received (P(R=1)): 0.26 \n",
            "Probability that a 1 was transmitted given that a 1 was received (P(T=1 | R=1)): 0.8653846 \n"
          ]
        }
      ],
      "source": [
        "P_T0 <- 0.70\n",
        "P_T1 <- 0.30\n",
        "\n",
        "P_R0_given_T0 <- 0.95\n",
        "P_R1_given_T0 <- 1 - P_R0_given_T0\n",
        "\n",
        "P_R1_given_T1 <- 0.75\n",
        "P_R0_given_T1 <- 1 - P_R1_given_T1\n",
        "\n",
        "P_R1 <- (P_R1_given_T0 * P_T0) + (P_R1_given_T1 * P_T1)\n",
        "\n",
        "P_T1_given_R1 <- (P_R1_given_T1 * P_T1) / P_R1\n",
        "\n",
        "cat(\"Probability that a 1 was received (P(R=1)):\", P_R1, \"\\n\")\n",
        "cat(\"Probability that a 1 was transmitted given that a 1 was received (P(T=1 | R=1)):\", P_T1_given_R1, \"\\n\")"
      ]
    },
    {
      "cell_type": "markdown",
      "source": [
        "7.  There are three employees working at an IT company: Jane, Amy, and Ava, doing 10%, 30%, and 60% of the programming, respectively. 8% of Jane’s work, 5% of Amy’s work, and just 1% of Ava‘s work is in error. What is the overall percentage of error? If a program is found with an error, who is the most likely person to have written it?"
      ],
      "metadata": {
        "id": "zHU0xQGSuPsU"
      }
    },
    {
      "cell_type": "code",
      "source": [
        "P_Jane <- 0.10\n",
        "P_Amy <- 0.30\n",
        "P_Ava <- 0.60\n",
        "\n",
        "P_Error_given_Jane <- 0.08\n",
        "P_Error_given_Amy <- 0.05\n",
        "P_Error_given_Ava <- 0.01\n",
        "\n",
        "P_Error <- (P_Error_given_Jane * P_Jane) +\n",
        "           (P_Error_given_Amy * P_Amy) +\n",
        "           (P_Error_given_Ava * P_Ava)\n",
        "\n",
        "P_Jane_given_Error <- (P_Error_given_Jane * P_Jane) / P_Error\n",
        "P_Amy_given_Error <- (P_Error_given_Amy * P_Amy) / P_Error\n",
        "P_Ava_given_Error <- (P_Error_given_Ava * P_Ava) / P_Error\n",
        "\n",
        "most_likely <- ifelse(P_Jane_given_Error > P_Amy_given_Error & P_Jane_given_Error > P_Ava_given_Error, \"Jane\",\n",
        "                      ifelse(P_Amy_given_Error > P_Ava_given_Error, \"Amy\", \"Ava\"))\n",
        "\n",
        "cat(\"Overall probability of error (P(Error)):\", P_Error, \"\\n\")\n",
        "cat(\"Probability that Jane wrote the erroneous program (P(Jane | Error)):\", P_Jane_given_Error, \"\\n\")\n",
        "cat(\"Probability that Amy wrote the erroneous program (P(Amy | Error)):\", P_Amy_given_Error, \"\\n\")\n",
        "cat(\"Probability that Ava wrote the erroneous program (P(Ava | Error)):\", P_Ava_given_Error, \"\\n\")\n",
        "cat(\"The most likely person to have written the erroneous program is:\", most_likely, \"\\n\")"
      ],
      "metadata": {
        "colab": {
          "base_uri": "https://localhost:8080/"
        },
        "id": "NyQdU4VnuS4x",
        "outputId": "265f6084-9b49-464f-f594-bda395677e7d"
      },
      "execution_count": 2,
      "outputs": [
        {
          "output_type": "stream",
          "name": "stdout",
          "text": [
            "Overall probability of error (P(Error)): 0.029 \n",
            "Probability that Jane wrote the erroneous program (P(Jane | Error)): 0.2758621 \n",
            "Probability that Amy wrote the erroneous program (P(Amy | Error)): 0.5172414 \n",
            "Probability that Ava wrote the erroneous program (P(Ava | Error)): 0.2068966 \n",
            "The most likely person to have written the erroneous program is: Amy \n"
          ]
        }
      ]
    }
  ]
}