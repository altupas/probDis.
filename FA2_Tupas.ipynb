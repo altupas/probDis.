{
  "nbformat": 4,
  "nbformat_minor": 0,
  "metadata": {
    "colab": {
      "provenance": []
    },
    "kernelspec": {
      "name": "ir",
      "display_name": "R"
    },
    "language_info": {
      "name": "R"
    }
  },
  "cells": [
    {
      "cell_type": "markdown",
      "source": [
        "2. An experiment consists of tossing two fair coins. Use R to simulate this experiment 100 times and obtain the relative frequency of each possible outcome. Hence, estimate the probability of getting one head and one tail in any order."
      ],
      "metadata": {
        "id": "AvMOd3EPjXZr"
      }
    },
    {
      "cell_type": "code",
      "source": [
        "set.seed(123)\n",
        "\n",
        "n <- 100\n",
        "\n",
        "tosses <- replicate(n, sample(c(\"H\", \"T\"), size = 2, replace = TRUE))\n",
        "\n",
        "results <- apply(tosses, 2, paste, collapse = \"\")\n",
        "\n",
        "outcome_table <- table(results) / n\n",
        "print(outcome_table)\n",
        "\n",
        "prob_HT_TH <- sum(outcome_table[c(\"HT\", \"TH\")])\n",
        "cat(\"Estimated Probability of getting one head and one tail:\", prob_HT_TH, \"\\n\")"
      ],
      "metadata": {
        "colab": {
          "base_uri": "https://localhost:8080/"
        },
        "id": "blG3AYg2jULP",
        "outputId": "1f8e7646-6984-4b0a-9dff-75a26973f051"
      },
      "execution_count": 2,
      "outputs": [
        {
          "output_type": "stream",
          "name": "stdout",
          "text": [
            "results\n",
            "  HH   HT   TH   TT \n",
            "0.23 0.32 0.25 0.20 \n",
            "Estimated Probability of getting one head and one tail: 0.57 \n"
          ]
        }
      ]
    },
    {
      "cell_type": "markdown",
      "source": [
        "3. An experiment consists of rolling a die. Use R to simulate this experiment 600 times and obtain the relative frequency of each possible outcome. Hence, estimate the probability of getting each of 1, 2, 3, 4, 5, and 6."
      ],
      "metadata": {
        "id": "MEF1FlXxk9l3"
      }
    },
    {
      "cell_type": "code",
      "source": [
        "set.seed(123)\n",
        "\n",
        "n <- 600\n",
        "\n",
        "rolls <- sample(1:6, size = n, replace = TRUE)\n",
        "\n",
        "outcome_table <- table(rolls) / n\n",
        "print(outcome_table)\n",
        "\n",
        "cat(\"Estimated Probability of each outcome:\\n\")\n",
        "print(outcome_table)"
      ],
      "metadata": {
        "colab": {
          "base_uri": "https://localhost:8080/"
        },
        "id": "JpgN6y8wk8za",
        "outputId": "f466d430-4052-4d76-c596-0cade52079fb"
      },
      "execution_count": 4,
      "outputs": [
        {
          "output_type": "stream",
          "name": "stdout",
          "text": [
            "rolls\n",
            "        1         2         3         4         5         6 \n",
            "0.1766667 0.1700000 0.1600000 0.1533333 0.1666667 0.1733333 \n",
            "Estimated Probability of each outcome:\n",
            "rolls\n",
            "        1         2         3         4         5         6 \n",
            "0.1766667 0.1700000 0.1600000 0.1533333 0.1666667 0.1733333 \n"
          ]
        }
      ]
    },
    {
      "cell_type": "markdown",
      "source": [
        "4. Amy and Jane are gambling together. A fair coin is tossed repeatedly. Each time a head comes up, Amy wins two euro from Jane, and each time a tail comes up, Amy loses two euro to Jane. Use R to simulate this game 100 times, and estimate:\n",
        "\n",
        "(a) the number of times that Amy is ahead in these 100 tosses;\n",
        "\n",
        "(b) how much Amy has won or lost after 100 tosses."
      ],
      "metadata": {
        "id": "trqN5pq9lnXm"
      }
    },
    {
      "cell_type": "code",
      "source": [
        "set.seed(123)\n",
        "\n",
        "n <- 100\n",
        "\n",
        "tosses <- sample(c(1, -1), size = n, replace = TRUE)\n",
        "\n",
        "winnings <- 2 * tosses\n",
        "\n",
        "cumulative_winnings <- cumsum(winnings)\n",
        "\n",
        "times_ahead <- sum(cumulative_winnings > 0)\n",
        "\n",
        "total_winnings <- sum(winnings)\n",
        "\n",
        "cat(\"Number of times Amy is ahead:\", times_ahead, \"\\n\")\n",
        "cat(\"Total amount Amy has won or lost after 100 tosses:\", total_winnings, \"euro\\n\")"
      ],
      "metadata": {
        "colab": {
          "base_uri": "https://localhost:8080/"
        },
        "id": "hZRzymrSly0d",
        "outputId": "750fa6c0-974b-4beb-ceea-b7d07ab0ed57"
      },
      "execution_count": 5,
      "outputs": [
        {
          "output_type": "stream",
          "name": "stdout",
          "text": [
            "Number of times Amy is ahead: 92 \n",
            "Total amount Amy has won or lost after 100 tosses: 28 euro\n"
          ]
        }
      ]
    }
  ]
}