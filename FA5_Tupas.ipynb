{
  "nbformat": 4,
  "nbformat_minor": 0,
  "metadata": {
    "colab": {
      "provenance": []
    },
    "kernelspec": {
      "name": "ir",
      "display_name": "R"
    },
    "language_info": {
      "name": "R"
    }
  },
  "cells": [
    {
      "cell_type": "markdown",
      "source": [
        "6. An email message can travel through one of three server routes. The percent-\n",
        "age of errors in each of the servers and the percentage of messages that travel\n",
        "through each route are shown in the following table. Assume that the servers\n",
        "are independent.\n",
        "\n",
        "(a) What is the probability of receiving an email containing an error?\n",
        "(b) What is the probability that a message will arrive without error?\n",
        "(c) If a message arrives without error, what is the probability that it was sent\n",
        "through server 1?"
      ],
      "metadata": {
        "id": "h4Xv0cifUV6A"
      }
    },
    {
      "cell_type": "code",
      "execution_count": null,
      "metadata": {
        "colab": {
          "base_uri": "https://localhost:8080/"
        },
        "id": "MONcenp4T2lB",
        "outputId": "c6c4ebe4-8ced-4c96-e7b4-00d5dd1ac2b4"
      },
      "outputs": [
        {
          "output_type": "stream",
          "name": "stdout",
          "text": [
            "Probability of receiving an email with an error (P(E)): 0.01425 \n",
            "Probability of receiving an email without an error (P(E^c)): 0.98575 \n",
            "Probability that a message without an error was sent through Server 1 (P(S1 | E^c)): 0.4017246 \n"
          ]
        }
      ],
      "source": [
        "P_S <- c(0.40, 0.25, 0.35)\n",
        "P_E_given_S <- c(0.01, 0.02, 0.015)\n",
        "\n",
        "P_E <- sum(P_E_given_S * P_S)\n",
        "\n",
        "P_Ec <- 1 - P_E\n",
        "\n",
        "P_Ec_given_S1 <- 1 - P_E_given_S[1]\n",
        "P_S1_given_Ec <- (P_Ec_given_S1 * P_S[1]) / P_Ec\n",
        "\n",
        "cat(\"Probability of receiving an email with an error (P(E)):\", P_E, \"\\n\")\n",
        "cat(\"Probability of receiving an email without an error (P(E^c)):\", P_Ec, \"\\n\")\n",
        "cat(\"Probability that a message without an error was sent through Server 1 (P(S1 | E^c)):\", P_S1_given_Ec, \"\\n\")"
      ]
    },
    {
      "cell_type": "markdown",
      "source": [
        "9. A software company surveyed managers to determine the probability that they\n",
        "would buy a new graphics package that includes three-dimensional graphics.\n",
        "About 20% of office managers were certain that they would not buy the pack-\n",
        "age, 70% claimed that they would buy, and the others were undecided. Of those\n",
        "who said that they would not buy the package, only 10% said that they were\n",
        "interested in upgrading their computer hardware. Of those interested in buying\n",
        "the graphics package, 40% were also interested in upgrading their computer\n",
        "hardware. Of the undecided, 20% were interested in upgrading their computer\n",
        "hardware.\n",
        "Let A denote the intention of not buying, B the intention of buying, C the\n",
        "undecided, and G the intention of upgrading the computer hardware.\n",
        "(a) Calculate the probability that a manager chosen at random will not upgrade\n",
        "the computer hardware (P(G)).\n",
        "(b) Explain what is meant by the posterior probability of B given G, P(B|G).\n",
        "(c) Construct a tree diagram and use it to calculate the following probabilities:\n",
        "P(G), P(B|G), P(B|G), P(C|G), P(C|G)."
      ],
      "metadata": {
        "id": "7Rn2S7MAVaSX"
      }
    },
    {
      "cell_type": "code",
      "source": [
        "P_A <- 0.2\n",
        "P_B <- 0.7\n",
        "P_C <- 0.1\n",
        "\n",
        "P_G_given_A <- 0.1\n",
        "P_G_given_B <- 0.4\n",
        "P_G_given_C <- 0.2\n",
        "\n",
        "P_G <- (P_A * P_G_given_A) + (P_B * P_G_given_B) + (P_C * P_G_given_C)\n",
        "P_not_G <- 1 - P_G\n",
        "\n",
        "P_B_given_G <- (P_B * P_G_given_B) / P_G\n",
        "\n",
        "P_not_G_given_A <- 1 - P_G_given_A\n",
        "P_not_G_given_B <- 1 - P_G_given_B\n",
        "P_not_G_given_C <- 1 - P_G_given_C\n",
        "\n",
        "P_not_G <- (P_A * P_not_G_given_A) + (P_B * P_not_G_given_B) + (P_C * P_not_G_given_C)\n",
        "P_B_given_not_G <- (P_B * P_not_G_given_B) / P_not_G\n",
        "\n",
        "P_C_given_G <- (P_C * P_G_given_C) / P_G\n",
        "\n",
        "P_not_C_given_not_G <- 1 - P_C_given_G\n",
        "\n",
        "cat(\"Results:\\n\")\n",
        "cat(\"P(G) =\", P_G, \"\\n\")\n",
        "cat(\"P(not G) =\", P_not_G, \"\\n\")\n",
        "cat(\"P(B|G) =\", P_B_given_G, \"\\n\")\n",
        "cat(\"P(B|not G) =\", P_B_given_not_G, \"\\n\")\n",
        "cat(\"P(C|G) =\", P_C_given_G, \"\\n\")\n",
        "cat(\"P(not C | not G) =\", P_not_C_given_not_G, \"\\n\")"
      ],
      "metadata": {
        "id": "lfcSocTHVmj3",
        "colab": {
          "base_uri": "https://localhost:8080/"
        },
        "outputId": "4ab0fcdc-e600-498e-ed95-f7d8035a2c59"
      },
      "execution_count": 3,
      "outputs": [
        {
          "output_type": "stream",
          "name": "stdout",
          "text": [
            "Results:\n",
            "P(G) = 0.32 \n",
            "P(not G) = 0.68 \n",
            "P(B|G) = 0.875 \n",
            "P(B|not G) = 0.6176471 \n",
            "P(C|G) = 0.0625 \n",
            "P(not C | not G) = 0.9375 \n"
          ]
        }
      ]
    },
    {
      "cell_type": "markdown",
      "source": [
        "13. A malicious spyware can infect a computer system though the Internet or\n",
        "through email. The spyware comes through the Internet 70% of the time\n",
        "and 30% of the time, it gets in through email. If it enters via the Internet\n",
        "the anti-virus detector will detect it with probability 0.6, and via email, it is\n",
        "detected with probability 0.8.\n",
        "(a) What is the probability that this spyware infects the system?\n",
        "(b) If the spyware is detected, what is the probability that it came through the\n",
        "Internet?"
      ],
      "metadata": {
        "id": "mOG-jiO2VnzG"
      }
    },
    {
      "cell_type": "code",
      "source": [
        "P_I <- 0.7\n",
        "P_E <- 0.3\n",
        "\n",
        "P_D_given_I <- 0.6\n",
        "P_D_given_E <- 0.8\n",
        "\n",
        "P_notD_given_I <- 1 - P_D_given_I\n",
        "P_notD_given_E <- 1 - P_D_given_E\n",
        "\n",
        "P_notD <- (P_I * P_notD_given_I) + (P_E * P_notD_given_E)\n",
        "\n",
        "P_D <- (P_I * P_D_given_I) + (P_E * P_D_given_E)\n",
        "P_I_given_D <- (P_I * P_D_given_I) / P_D\n",
        "\n",
        "cat(\"Probability that the spyware infects the system (P(not D)) =\", P_notD, \"\\n\")\n",
        "cat(\"Probability that the spyware came through the Internet given it was detected (P(I|D)) =\", P_I_given_D, \"\\n\")"
      ],
      "metadata": {
        "id": "lDerZpCjVtR1",
        "colab": {
          "base_uri": "https://localhost:8080/"
        },
        "outputId": "75461c9d-a1a7-4329-9dae-79c8b7e2ff14"
      },
      "execution_count": 4,
      "outputs": [
        {
          "output_type": "stream",
          "name": "stdout",
          "text": [
            "Probability that the spyware infects the system (P(not D)) = 0.34 \n",
            "Probability that the spyware came through the Internet given it was detected (P(I|D)) = 0.6363636 \n"
          ]
        }
      ]
    }
  ]
}