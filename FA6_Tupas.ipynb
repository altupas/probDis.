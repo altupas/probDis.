{
  "nbformat": 4,
  "nbformat_minor": 0,
  "metadata": {
    "colab": {
      "provenance": []
    },
    "kernelspec": {
      "name": "ir",
      "display_name": "R"
    },
    "language_info": {
      "name": "R"
    }
  },
  "cells": [
    {
      "cell_type": "markdown",
      "source": [
        "I. Geometric Distribution. Provide an R code for the geometric distribution. The geometric distribution is a probability distribution that models the number of trials required to achieve the first success in a sequence of Bernoulli trials, where each trial has a constant probability of success.\n",
        "\n",
        "1. Set the probability of success:  p <- 0.2\n",
        "\n",
        "2. Generate 1000 random variables from the geometric distribution.\n",
        "\n",
        "3. Calculate some basic statistics:\n",
        "\n",
        "mean_x <- mean(x)\n",
        "\n",
        "var_x <- var(x)\n",
        "\n",
        "sd_x <- sd(x)\n",
        "\n",
        "4. Print the results in item 3 with the following output (string):\n",
        "\n",
        "Number of trials required to achieve first success:\n",
        "\n",
        "Mean (in 2 decimal places):\n",
        "\n",
        "Variance (in 2 decimal places):\n",
        "\n",
        "Sandard deviation ( in 2 decimal places):\n",
        "\n",
        "5. Plot the histogram of the results."
      ],
      "metadata": {
        "id": "6gzrhD4WduNZ"
      }
    },
    {
      "cell_type": "code",
      "execution_count": 4,
      "metadata": {
        "colab": {
          "base_uri": "https://localhost:8080/",
          "height": 506
        },
        "id": "NiZNagxsdr4a",
        "outputId": "623f3762-48c1-4aca-c20b-7151686c8cc7"
      },
      "outputs": [
        {
          "output_type": "stream",
          "name": "stdout",
          "text": [
            "Number of trials required to achieve first success:\n",
            "Mean (in 2 decimal places): 3.90 \n",
            "Variance (in 2 decimal places): 18.38 \n",
            "Standard deviation (in 2 decimal places): 4.29 \n"
          ]
        },
        {
          "output_type": "display_data",
          "data": {
            "text/plain": [
              "Plot with title “Histogram of Geometric Distribution”"
            ],
            "image/png": "[encoded data removed]"
          },
          "metadata": {
            "image/png": {
              "width": 420,
              "height": 420
            }
          }
        }
      ],
      "source": [
        "p <- 0.2\n",
        "\n",
        "x <- rgeom(1000, p)\n",
        "\n",
        "mean_x <- mean(x)\n",
        "var_x <- var(x)\n",
        "sd_x <- sd(x)\n",
        "\n",
        "cat(\"Number of trials required to achieve first success:\\n\")\n",
        "cat(\"Mean (in 2 decimal places):\", sprintf(\"%.2f\", mean_x), \"\\n\")\n",
        "cat(\"Variance (in 2 decimal places):\", sprintf(\"%.2f\", var_x), \"\\n\")\n",
        "cat(\"Standard deviation (in 2 decimal places):\", sprintf(\"%.2f\", sd_x), \"\\n\")\n",
        "\n",
        "hist(x, breaks = 30, col = \"lightblue\", border = \"black\",\n",
        "     main = \"Histogram of Geometric Distribution\",\n",
        "     xlab = \"Number of Trials\",\n",
        "     ylab = \"Frequency\")"
      ]
    },
    {
      "cell_type": "markdown",
      "source": [
        "II. Hypergeometric Distribution.  Consider a plant manufacturing IC chips of which 10% are expected to be defective. The chips are packed in boxes for export. Before transportation, a sample is drawn from each box. Estimate the probability that the sample contains more than 10% defectives, when:\n",
        "\n",
        "1. A sample of 10 is selected from a box of 40;\n",
        "2. A sample of 10 is selected from a box of 5000."
      ],
      "metadata": {
        "id": "9mIfPfc7goXe"
      }
    },
    {
      "cell_type": "code",
      "source": [
        "hyper_prob <- function(N, n, defect_rate) {\n",
        "  D <- round(N * defect_rate)\n",
        "  defect_threshold <- ceiling(n * defect_rate)\n",
        "\n",
        "  prob <- 1 - phyper(defect_threshold, D, N - D, n)\n",
        "\n",
        "  return(prob)\n",
        "}\n",
        "\n",
        "N1 <- 40\n",
        "n1 <- 10\n",
        "N2 <- 5000\n",
        "n2 <- 10\n",
        "defect_rate <- 0.1\n",
        "\n",
        "prob_1 <- hyper_prob(N1, n1, defect_rate)\n",
        "prob_2 <- hyper_prob(N2, n2, defect_rate)\n",
        "\n",
        "cat(\"Probability that sample contains more than 10% defectives:\\n\")\n",
        "cat(\"1. When sampling 10 from a box of 40:\", round(prob_1, 4), \"\\n\")\n",
        "cat(\"2. When sampling 10 from a box of 5000:\", round(prob_2, 4), \"\\n\")"
      ],
      "metadata": {
        "colab": {
          "base_uri": "https://localhost:8080/"
        },
        "id": "djjZqjt7g4nn",
        "outputId": "07543325-9287-4470-b22a-6bf4fb7416d3"
      },
      "execution_count": 5,
      "outputs": [
        {
          "output_type": "stream",
          "name": "stdout",
          "text": [
            "Probability that sample contains more than 10% defectives:\n",
            "1. When sampling 10 from a box of 40: 0.2559 \n",
            "2. When sampling 10 from a box of 5000: 0.2639 \n"
          ]
        }
      ]
    }
  ]
}