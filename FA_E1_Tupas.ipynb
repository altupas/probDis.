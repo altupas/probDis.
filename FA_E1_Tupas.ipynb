{
  "nbformat": 4,
  "nbformat_minor": 0,
  "metadata": {
    "colab": {
      "provenance": []
    },
    "kernelspec": {
      "name": "ir",
      "display_name": "R"
    },
    "language_info": {
      "name": "R"
    }
  },
  "cells": [
    {
      "cell_type": "markdown",
      "source": [
        "13. A malicious spyware can infect a computer system though the Internet or\n",
        "through email. The spyware comes through the Internet 70% of the time\n",
        "and 30% of the time, it gets in through email. If it enters via the Internet\n",
        "the anti-virus detector will detect it with probability 0.6, and via email, it is\n",
        "detected with probability 0.8.\n",
        "(a) What is the probability that this spyware infects the system?\n",
        "(b) If the spyware is detected, what is the probability that it came through the\n",
        "Internet?"
      ],
      "metadata": {
        "id": "Cn-9NCn4Uzya"
      }
    },
    {
      "cell_type": "code",
      "execution_count": 1,
      "metadata": {
        "colab": {
          "base_uri": "https://localhost:8080/"
        },
        "id": "uHTIKwBfUrgs",
        "outputId": "7518c363-f3eb-4d6f-866e-78cdddd2ea99"
      },
      "outputs": [
        {
          "output_type": "stream",
          "name": "stdout",
          "text": [
            "Total probability of detection (P(Detected)): 0.66 \n",
            "Probability that spyware came through the internet, given that it was detected (P(Internet | Detected)): 0.6363636 \n"
          ]
        }
      ],
      "source": [
        "P_internet <- 0.7\n",
        "P_email <- 0.3\n",
        "P_detected_given_internet <- 0.6\n",
        "P_detected_given_email <- 0.8\n",
        "\n",
        "P_detected <- P_detected_given_internet * P_internet + P_detected_given_email * P_email\n",
        "cat(\"Total probability of detection (P(Detected)):\", P_detected, \"\\n\")\n",
        "\n",
        "P_internet_given_detected <- (P_detected_given_internet * P_internet) / P_detected\n",
        "cat(\"Probability that spyware came through the internet, given that it was detected (P(Internet | Detected)):\", P_internet_given_detected, \"\\n\")"
      ]
    },
    {
      "cell_type": "markdown",
      "source": [
        "14. Of the emails you receive 20% are spam on average. Your spam filter is able to\n",
        "detect 90% of them but also misclassifies as spam 15% of the genuine emails.\n",
        "(a) If an email arrives and is marked spam, what is the probability that it really\n",
        "is spam?\n",
        "(b) If an email arrives and is not marked spam, what is the probability that it\n",
        "is legitimate?"
      ],
      "metadata": {
        "id": "eJhxaoS9VDx4"
      }
    },
    {
      "cell_type": "code",
      "source": [
        "P_spam <- 0.2\n",
        "P_legitimate <- 0.8\n",
        "P_marked_as_spam_given_spam <- 0.9\n",
        "P_marked_as_spam_given_legitimate <- 0.15\n",
        "P_not_marked_as_spam_given_spam <- 0.1\n",
        "P_not_marked_as_spam_given_legitimate <- 0.85\n",
        "\n",
        "P_marked_as_spam <- P_marked_as_spam_given_spam * P_spam + P_marked_as_spam_given_legitimate * P_legitimate\n",
        "P_spam_given_marked_as_spam <- (P_marked_as_spam_given_spam * P_spam) / P_marked_as_spam\n",
        "\n",
        "cat(\"Probability that the email is spam given that it is marked as spam (P(Spam | Marked as Spam)):\", P_spam_given_marked_as_spam, \"\\n\")\n",
        "\n",
        "P_not_marked_as_spam <- P_not_marked_as_spam_given_spam * P_spam + P_not_marked_as_spam_given_legitimate * P_legitimate\n",
        "P_legitimate_given_not_marked_as_spam <- (P_not_marked_as_spam_given_legitimate * P_legitimate) / P_not_marked_as_spam\n",
        "\n",
        "cat(\"Probability that the email is legitimate given that it is not marked as spam (P(Legitimate | Not Marked as Spam)):\", P_legitimate_given_not_marked_as_spam, \"\\n\")"
      ],
      "metadata": {
        "colab": {
          "base_uri": "https://localhost:8080/"
        },
        "id": "izu9xPJOVJGx",
        "outputId": "92b7b224-b5e0-44b1-936c-4d19bc19c331"
      },
      "execution_count": 2,
      "outputs": [
        {
          "output_type": "stream",
          "name": "stdout",
          "text": [
            "Probability that the email is spam given that it is marked as spam (P(Spam | Marked as Spam)): 0.6 \n",
            "Probability that the email is legitimate given that it is not marked as spam (P(Legitimate | Not Marked as Spam)): 0.9714286 \n"
          ]
        }
      ]
    }
  ]
}